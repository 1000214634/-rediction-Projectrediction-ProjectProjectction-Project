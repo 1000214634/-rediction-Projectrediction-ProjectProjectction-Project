{
 "cells": [
  {
   "cell_type": "markdown",
   "id": "5e35c101",
   "metadata": {},
   "source": [
    "# Import The Libraries"
   ]
  },
  {
   "cell_type": "code",
   "execution_count": 1,
   "id": "95667a5e",
   "metadata": {},
   "outputs": [],
   "source": [
    "import pandas as pd\n",
    "import numpy as np\n",
    "from sklearn.model_selection import train_test_split\n",
    "from sklearn.ensemble import RandomForestClassifier\n",
    "from sklearn.metrics import classification_report,confusion_matrix\n",
    "from sklearn.preprocessing import LabelEncoder"
   ]
  },
  {
   "cell_type": "markdown",
   "id": "c7ca71c3",
   "metadata": {},
   "source": [
    "# Reading data to a pandas dataframe"
   ]
  },
  {
   "cell_type": "code",
   "execution_count": 2,
   "id": "971dff15",
   "metadata": {},
   "outputs": [
    {
     "name": "stdout",
     "output_type": "stream",
     "text": [
      "  Customer_Id  gender  age married           state  referrals  \\\n",
      "0   12699-TEL  Female   23     Yes       Telangana         13   \n",
      "1   12728-AND  Female   28     Yes  Andhra Pradesh          2   \n",
      "2   12736-ASS  Female   62      No           Assam         10   \n",
      "3   12739-HAR    Male   57     Yes         Haryana          1   \n",
      "4   12746-WES    Male   53      No     West Bengal          7   \n",
      "\n",
      "   Tenure_in_Months value_deal Phone_Service Multiple_Lines  ...  \\\n",
      "0                 8       none           Yes             No  ...   \n",
      "1                13       none           Yes            Yes  ...   \n",
      "2                 3       none           Yes             No  ...   \n",
      "3                31       none           Yes            Yes  ...   \n",
      "4                17       none           Yes             No  ...   \n",
      "\n",
      "    Payment_Method Monthly_Charge Total_Charges Total_Refunds  \\\n",
      "0  Bank Withdrawal      44.799999    559.200012     37.490002   \n",
      "1      Credit Card      80.300003    324.200012      0.000000   \n",
      "2  Bank Withdrawal      69.349998     69.349998      0.000000   \n",
      "3      Credit Card      88.650002   5321.250000      0.000000   \n",
      "4      Credit Card      19.950001     59.250000      0.000000   \n",
      "\n",
      "  Total_Extra_Data_Charges Total_Long_Distance_Charges Total_Revenue  \\\n",
      "0                       90                   80.339996    692.049988   \n",
      "1                        0                  154.960007    479.160004   \n",
      "2                        0                   22.030001     91.379997   \n",
      "3                        0                 1194.380005   6515.629883   \n",
      "4                        0                  139.440002    198.690002   \n",
      "\n",
      "  Customer_Status Churn_Category                  Churn_Reason  \n",
      "0          Stayed         Others                        Others  \n",
      "1          Stayed         Others                        Others  \n",
      "2         Churned       Attitude  Attitude of service provider  \n",
      "3          Stayed         Others                        Others  \n",
      "4          Stayed         Others                        Others  \n",
      "\n",
      "[5 rows x 32 columns]\n"
     ]
    }
   ],
   "source": [
    "# import pandas as pd\n",
    "\n",
    "# تحديد مسار الملف\n",
    "file_path = r\"E:\\proj\\2)FINANCE DOMAIN\\2_POWER BI &SQL&ML PROJ\\vw_ChurnData.xlsx\"\n",
    "\n",
    "# قراءة ملف Excel\n",
    "data = pd.read_excel(file_path)\n",
    "\n",
    "# عرض أول 5 صفوف من البيانات\n",
    "print(data.head())\n"
   ]
  },
  {
   "cell_type": "code",
   "execution_count": 3,
   "id": "2396c762",
   "metadata": {},
   "outputs": [
    {
     "data": {
      "text/plain": [
       "Index(['Customer_Id', 'gender', 'age', 'married', 'state', 'referrals',\n",
       "       'Tenure_in_Months', 'value_deal', 'Phone_Service', 'Multiple_Lines',\n",
       "       'Internet_Service', 'Internet_Type', 'online_security', 'online_backup',\n",
       "       'device_protection', 'Premium_Support', 'Streaming_TV',\n",
       "       'Streaming_Movies', 'Streaming_Music', 'Unlimited_Data', 'Contract',\n",
       "       'Paperless_Billing', 'Payment_Method', 'Monthly_Charge',\n",
       "       'Total_Charges', 'Total_Refunds', 'Total_Extra_Data_Charges',\n",
       "       'Total_Long_Distance_Charges', 'Total_Revenue', 'Customer_Status',\n",
       "       'Churn_Category', 'Churn_Reason'],\n",
       "      dtype='object')"
      ]
     },
     "execution_count": 3,
     "metadata": {},
     "output_type": "execute_result"
    }
   ],
   "source": [
    "data.columns"
   ]
  },
  {
   "cell_type": "markdown",
   "id": "ff0c51d6",
   "metadata": {},
   "source": [
    "# Data Processing"
   ]
  },
  {
   "cell_type": "code",
   "execution_count": 4,
   "id": "fdc4e268",
   "metadata": {},
   "outputs": [],
   "source": [
    "# Drop columns that won't be used for prediction\n",
    "\n",
    "columns_to_drop = ['Customer_Id', 'Churn_Category', 'Churn_Reason']\n",
    "columns_to_drop = [col for col in columns_to_drop if col in data.columns]\n",
    "data = data.drop(columns_to_drop, axis=1)\n",
    " \n",
    "\n",
    "# List of columns to be label encoded\n",
    "\n",
    "columns_to_encode = [\n",
    "\n",
    "    'gender', 'married', 'state', 'value_deal', 'Phone_Service', 'Multiple_Lines',\n",
    "    'Internet_Service', 'Internet_Type', 'online_security', 'online_backup',  'device_protection', 'Premium_Support', 'Streaming_TV',\n",
    "       'Streaming_Movies', 'Streaming_Music', 'Unlimited_Data', 'Contract',\n",
    "       'Paperless_Billing', 'Payment_Method'\n",
    "\n",
    "    ]\n",
    "\n",
    " \n",
    "\n",
    "# Encode categorical variables except the target variable\n",
    "\n",
    "label_encoders = {}\n",
    "\n",
    "for column in columns_to_encode:\n",
    "\n",
    "    label_encoders[column] = LabelEncoder()\n",
    "\n",
    "    data[column] = label_encoders[column].fit_transform(data[column])\n",
    "\n",
    " \n",
    "\n",
    "# Manually encode the target variable 'Customer_Status'\n",
    "\n",
    "data['Customer_Status'] = data['Customer_Status'].map({'Stayed': 0, 'Churned': 1})\n",
    "\n",
    " \n",
    "\n",
    "# Split data into features and target\n",
    "\n",
    "X = data.drop('Customer_Status', axis=1)\n",
    "\n",
    "y = data['Customer_Status']\n",
    "\n",
    " \n",
    "\n",
    "# Split data into training and testing sets\n",
    "\n",
    "X_train, X_test, y_train, y_test = train_test_split(X, y, test_size=0.2, random_state=42)"
   ]
  },
  {
   "cell_type": "markdown",
   "id": "3364f30f",
   "metadata": {},
   "source": [
    "# Random Forest Model"
   ]
  },
  {
   "cell_type": "code",
   "execution_count": 5,
   "id": "2e838277",
   "metadata": {},
   "outputs": [
    {
     "data": {
      "text/html": [
       "<style>#sk-container-id-1 {color: black;}#sk-container-id-1 pre{padding: 0;}#sk-container-id-1 div.sk-toggleable {background-color: white;}#sk-container-id-1 label.sk-toggleable__label {cursor: pointer;display: block;width: 100%;margin-bottom: 0;padding: 0.3em;box-sizing: border-box;text-align: center;}#sk-container-id-1 label.sk-toggleable__label-arrow:before {content: \"▸\";float: left;margin-right: 0.25em;color: #696969;}#sk-container-id-1 label.sk-toggleable__label-arrow:hover:before {color: black;}#sk-container-id-1 div.sk-estimator:hover label.sk-toggleable__label-arrow:before {color: black;}#sk-container-id-1 div.sk-toggleable__content {max-height: 0;max-width: 0;overflow: hidden;text-align: left;background-color: #f0f8ff;}#sk-container-id-1 div.sk-toggleable__content pre {margin: 0.2em;color: black;border-radius: 0.25em;background-color: #f0f8ff;}#sk-container-id-1 input.sk-toggleable__control:checked~div.sk-toggleable__content {max-height: 200px;max-width: 100%;overflow: auto;}#sk-container-id-1 input.sk-toggleable__control:checked~label.sk-toggleable__label-arrow:before {content: \"▾\";}#sk-container-id-1 div.sk-estimator input.sk-toggleable__control:checked~label.sk-toggleable__label {background-color: #d4ebff;}#sk-container-id-1 div.sk-label input.sk-toggleable__control:checked~label.sk-toggleable__label {background-color: #d4ebff;}#sk-container-id-1 input.sk-hidden--visually {border: 0;clip: rect(1px 1px 1px 1px);clip: rect(1px, 1px, 1px, 1px);height: 1px;margin: -1px;overflow: hidden;padding: 0;position: absolute;width: 1px;}#sk-container-id-1 div.sk-estimator {font-family: monospace;background-color: #f0f8ff;border: 1px dotted black;border-radius: 0.25em;box-sizing: border-box;margin-bottom: 0.5em;}#sk-container-id-1 div.sk-estimator:hover {background-color: #d4ebff;}#sk-container-id-1 div.sk-parallel-item::after {content: \"\";width: 100%;border-bottom: 1px solid gray;flex-grow: 1;}#sk-container-id-1 div.sk-label:hover label.sk-toggleable__label {background-color: #d4ebff;}#sk-container-id-1 div.sk-serial::before {content: \"\";position: absolute;border-left: 1px solid gray;box-sizing: border-box;top: 0;bottom: 0;left: 50%;z-index: 0;}#sk-container-id-1 div.sk-serial {display: flex;flex-direction: column;align-items: center;background-color: white;padding-right: 0.2em;padding-left: 0.2em;position: relative;}#sk-container-id-1 div.sk-item {position: relative;z-index: 1;}#sk-container-id-1 div.sk-parallel {display: flex;align-items: stretch;justify-content: center;background-color: white;position: relative;}#sk-container-id-1 div.sk-item::before, #sk-container-id-1 div.sk-parallel-item::before {content: \"\";position: absolute;border-left: 1px solid gray;box-sizing: border-box;top: 0;bottom: 0;left: 50%;z-index: -1;}#sk-container-id-1 div.sk-parallel-item {display: flex;flex-direction: column;z-index: 1;position: relative;background-color: white;}#sk-container-id-1 div.sk-parallel-item:first-child::after {align-self: flex-end;width: 50%;}#sk-container-id-1 div.sk-parallel-item:last-child::after {align-self: flex-start;width: 50%;}#sk-container-id-1 div.sk-parallel-item:only-child::after {width: 0;}#sk-container-id-1 div.sk-dashed-wrapped {border: 1px dashed gray;margin: 0 0.4em 0.5em 0.4em;box-sizing: border-box;padding-bottom: 0.4em;background-color: white;}#sk-container-id-1 div.sk-label label {font-family: monospace;font-weight: bold;display: inline-block;line-height: 1.2em;}#sk-container-id-1 div.sk-label-container {text-align: center;}#sk-container-id-1 div.sk-container {/* jupyter's `normalize.less` sets `[hidden] { display: none; }` but bootstrap.min.css set `[hidden] { display: none !important; }` so we also need the `!important` here to be able to override the default hidden behavior on the sphinx rendered scikit-learn.org. See: https://github.com/scikit-learn/scikit-learn/issues/21755 */display: inline-block !important;position: relative;}#sk-container-id-1 div.sk-text-repr-fallback {display: none;}</style><div id=\"sk-container-id-1\" class=\"sk-top-container\"><div class=\"sk-text-repr-fallback\"><pre>RandomForestClassifier(random_state=42)</pre><b>In a Jupyter environment, please rerun this cell to show the HTML representation or trust the notebook. <br />On GitHub, the HTML representation is unable to render, please try loading this page with nbviewer.org.</b></div><div class=\"sk-container\" hidden><div class=\"sk-item\"><div class=\"sk-estimator sk-toggleable\"><input class=\"sk-toggleable__control sk-hidden--visually\" id=\"sk-estimator-id-1\" type=\"checkbox\" checked><label for=\"sk-estimator-id-1\" class=\"sk-toggleable__label sk-toggleable__label-arrow\">RandomForestClassifier</label><div class=\"sk-toggleable__content\"><pre>RandomForestClassifier(random_state=42)</pre></div></div></div></div></div>"
      ],
      "text/plain": [
       "RandomForestClassifier(random_state=42)"
      ]
     },
     "execution_count": 5,
     "metadata": {},
     "output_type": "execute_result"
    }
   ],
   "source": [
    "\n",
    "# Initialize the Random Forest Classifier\n",
    "\n",
    "rf_model = RandomForestClassifier(n_estimators=100, random_state=42)\n",
    "\n",
    " # Train the model\n",
    "\n",
    "rf_model.fit(X_train, y_train)"
   ]
  },
  {
   "cell_type": "markdown",
   "id": "43cd34e3",
   "metadata": {},
   "source": [
    "# Evaluate Model"
   ]
  },
  {
   "cell_type": "code",
   "execution_count": 6,
   "id": "aa710dee",
   "metadata": {},
   "outputs": [],
   "source": [
    "#Make prediction\n",
    "y_pred=rf_model.predict(X_test)"
   ]
  },
  {
   "cell_type": "code",
   "execution_count": 7,
   "id": "f028ac37",
   "metadata": {},
   "outputs": [
    {
     "name": "stdout",
     "output_type": "stream",
     "text": [
      "Confusion Matrix:\n",
      "[[126   7]\n",
      " [ 24  43]]\n"
     ]
    }
   ],
   "source": [
    "#Evaluate the Model\n",
    "print(\"Confusion Matrix:\")\n",
    "print(confusion_matrix(y_test,y_pred))"
   ]
  },
  {
   "cell_type": "code",
   "execution_count": 8,
   "id": "e3ab998b",
   "metadata": {},
   "outputs": [
    {
     "name": "stdout",
     "output_type": "stream",
     "text": [
      "Classification Report:\n",
      "              precision    recall  f1-score   support\n",
      "\n",
      "           0       0.84      0.95      0.89       133\n",
      "           1       0.86      0.64      0.74        67\n",
      "\n",
      "    accuracy                           0.84       200\n",
      "   macro avg       0.85      0.79      0.81       200\n",
      "weighted avg       0.85      0.84      0.84       200\n",
      "\n"
     ]
    }
   ],
   "source": [
    "print(\"Classification Report:\")\n",
    "print(classification_report(y_test,y_pred))"
   ]
  },
  {
   "cell_type": "code",
   "execution_count": 9,
   "id": "af26ee7b",
   "metadata": {},
   "outputs": [],
   "source": [
    "# Feature Selection using Feature Importance\n",
    "\n",
    "importances = rf_model.feature_importances_\n",
    "\n",
    "indices = np.argsort(importances)[::-1]\n",
    "\n",
    " "
   ]
  },
  {
   "cell_type": "code",
   "execution_count": 10,
   "id": "a5c41204",
   "metadata": {},
   "outputs": [
    {
     "data": {
      "image/png": "[encoded data removed]",
      "text/plain": [
       "<Figure size 1080x432 with 1 Axes>"
      ]
     },
     "metadata": {
      "needs_background": "light"
     },
     "output_type": "display_data"
    }
   ],
   "source": [
    "# Plot the feature importances\n",
    "import matplotlib.pyplot as plt\n",
    "import seaborn as sns\n",
    "plt.figure(figsize=(15, 6))\n",
    "\n",
    "sns.barplot(x=importances[indices], y=X.columns[indices])\n",
    "\n",
    "plt.title('Feature Importances')\n",
    "\n",
    "plt.xlabel('Relative Importance')\n",
    "\n",
    "plt.ylabel('Feature Names')\n",
    "\n",
    "plt.show()"
   ]
  },
  {
   "cell_type": "markdown",
   "id": "05861ead",
   "metadata": {},
   "source": [
    "# Use Model for Prediction on New Data"
   ]
  },
  {
   "cell_type": "code",
   "execution_count": 11,
   "id": "9c60a64f",
   "metadata": {},
   "outputs": [],
   "source": [
    "new_data=pd.read_excel(r\"E:\\proj\\2)FINANCE DOMAIN\\2_POWER BI &SQL&ML PROJ\\vw.JoinData.xlsx\")"
   ]
  },
  {
   "cell_type": "code",
   "execution_count": 12,
   "id": "d6802c25",
   "metadata": {},
   "outputs": [
    {
     "data": {
      "text/html": [
       "<div>\n",
       "<style scoped>\n",
       "    .dataframe tbody tr th:only-of-type {\n",
       "        vertical-align: middle;\n",
       "    }\n",
       "\n",
       "    .dataframe tbody tr th {\n",
       "        vertical-align: top;\n",
       "    }\n",
       "\n",
       "    .dataframe thead th {\n",
       "        text-align: right;\n",
       "    }\n",
       "</style>\n",
       "<table border=\"1\" class=\"dataframe\">\n",
       "  <thead>\n",
       "    <tr style=\"text-align: right;\">\n",
       "      <th></th>\n",
       "      <th>Customer_Id</th>\n",
       "      <th>gender</th>\n",
       "      <th>age</th>\n",
       "      <th>married</th>\n",
       "      <th>state</th>\n",
       "      <th>referrals</th>\n",
       "      <th>Tenure_in_Months</th>\n",
       "      <th>value_deal</th>\n",
       "      <th>Phone_Service</th>\n",
       "      <th>Multiple_Lines</th>\n",
       "      <th>...</th>\n",
       "      <th>Payment_Method</th>\n",
       "      <th>Monthly_Charge</th>\n",
       "      <th>Total_Charges</th>\n",
       "      <th>Total_Refunds</th>\n",
       "      <th>Total_Extra_Data_Charges</th>\n",
       "      <th>Total_Long_Distance_Charges</th>\n",
       "      <th>Total_Revenue</th>\n",
       "      <th>Customer_Status</th>\n",
       "      <th>Churn_Category</th>\n",
       "      <th>Churn_Reason</th>\n",
       "    </tr>\n",
       "  </thead>\n",
       "  <tbody>\n",
       "    <tr>\n",
       "      <th>0</th>\n",
       "      <td>13666-UTT</td>\n",
       "      <td>Male</td>\n",
       "      <td>57</td>\n",
       "      <td>Yes</td>\n",
       "      <td>Uttarakhand</td>\n",
       "      <td>15</td>\n",
       "      <td>16</td>\n",
       "      <td>none</td>\n",
       "      <td>Yes</td>\n",
       "      <td>No</td>\n",
       "      <td>...</td>\n",
       "      <td>Bank Withdrawal</td>\n",
       "      <td>95.400002</td>\n",
       "      <td>293.149994</td>\n",
       "      <td>0.0</td>\n",
       "      <td>0</td>\n",
       "      <td>51.029999</td>\n",
       "      <td>344.179993</td>\n",
       "      <td>Joined</td>\n",
       "      <td>Others</td>\n",
       "      <td>Others</td>\n",
       "    </tr>\n",
       "    <tr>\n",
       "      <th>1</th>\n",
       "      <td>13744-AND</td>\n",
       "      <td>Female</td>\n",
       "      <td>41</td>\n",
       "      <td>Yes</td>\n",
       "      <td>Andhra Pradesh</td>\n",
       "      <td>8</td>\n",
       "      <td>3</td>\n",
       "      <td>Deal 5</td>\n",
       "      <td>Yes</td>\n",
       "      <td>No</td>\n",
       "      <td>...</td>\n",
       "      <td>Bank Withdrawal</td>\n",
       "      <td>19.650000</td>\n",
       "      <td>19.650000</td>\n",
       "      <td>0.0</td>\n",
       "      <td>0</td>\n",
       "      <td>13.850000</td>\n",
       "      <td>33.500000</td>\n",
       "      <td>Joined</td>\n",
       "      <td>Others</td>\n",
       "      <td>Others</td>\n",
       "    </tr>\n",
       "    <tr>\n",
       "      <th>2</th>\n",
       "      <td>13823-TEL</td>\n",
       "      <td>Female</td>\n",
       "      <td>31</td>\n",
       "      <td>Yes</td>\n",
       "      <td>Telangana</td>\n",
       "      <td>1</td>\n",
       "      <td>28</td>\n",
       "      <td>Deal 5</td>\n",
       "      <td>No</td>\n",
       "      <td>none</td>\n",
       "      <td>...</td>\n",
       "      <td>Bank Withdrawal</td>\n",
       "      <td>24.500000</td>\n",
       "      <td>46.400002</td>\n",
       "      <td>0.0</td>\n",
       "      <td>0</td>\n",
       "      <td>0.000000</td>\n",
       "      <td>46.400002</td>\n",
       "      <td>Joined</td>\n",
       "      <td>Others</td>\n",
       "      <td>Others</td>\n",
       "    </tr>\n",
       "    <tr>\n",
       "      <th>3</th>\n",
       "      <td>13946-HAR</td>\n",
       "      <td>Female</td>\n",
       "      <td>41</td>\n",
       "      <td>Yes</td>\n",
       "      <td>Haryana</td>\n",
       "      <td>1</td>\n",
       "      <td>3</td>\n",
       "      <td>Deal 5</td>\n",
       "      <td>Yes</td>\n",
       "      <td>No</td>\n",
       "      <td>...</td>\n",
       "      <td>Credit Card</td>\n",
       "      <td>19.650000</td>\n",
       "      <td>19.650000</td>\n",
       "      <td>0.0</td>\n",
       "      <td>0</td>\n",
       "      <td>23.670000</td>\n",
       "      <td>43.320000</td>\n",
       "      <td>Joined</td>\n",
       "      <td>Others</td>\n",
       "      <td>Others</td>\n",
       "    </tr>\n",
       "    <tr>\n",
       "      <th>4</th>\n",
       "      <td>17597-HAR</td>\n",
       "      <td>Female</td>\n",
       "      <td>33</td>\n",
       "      <td>Yes</td>\n",
       "      <td>Haryana</td>\n",
       "      <td>2</td>\n",
       "      <td>6</td>\n",
       "      <td>Deal 5</td>\n",
       "      <td>No</td>\n",
       "      <td>none</td>\n",
       "      <td>...</td>\n",
       "      <td>Bank Withdrawal</td>\n",
       "      <td>29.850000</td>\n",
       "      <td>29.850000</td>\n",
       "      <td>0.0</td>\n",
       "      <td>0</td>\n",
       "      <td>0.000000</td>\n",
       "      <td>29.850000</td>\n",
       "      <td>Joined</td>\n",
       "      <td>Others</td>\n",
       "      <td>Others</td>\n",
       "    </tr>\n",
       "  </tbody>\n",
       "</table>\n",
       "<p>5 rows × 32 columns</p>\n",
       "</div>"
      ],
      "text/plain": [
       "  Customer_Id  gender  age married           state  referrals  \\\n",
       "0   13666-UTT    Male   57     Yes     Uttarakhand         15   \n",
       "1   13744-AND  Female   41     Yes  Andhra Pradesh          8   \n",
       "2   13823-TEL  Female   31     Yes       Telangana          1   \n",
       "3   13946-HAR  Female   41     Yes         Haryana          1   \n",
       "4   17597-HAR  Female   33     Yes         Haryana          2   \n",
       "\n",
       "   Tenure_in_Months value_deal Phone_Service Multiple_Lines  ...  \\\n",
       "0                16       none           Yes             No  ...   \n",
       "1                 3     Deal 5           Yes             No  ...   \n",
       "2                28     Deal 5            No           none  ...   \n",
       "3                 3     Deal 5           Yes             No  ...   \n",
       "4                 6     Deal 5            No           none  ...   \n",
       "\n",
       "    Payment_Method Monthly_Charge Total_Charges Total_Refunds  \\\n",
       "0  Bank Withdrawal      95.400002    293.149994           0.0   \n",
       "1  Bank Withdrawal      19.650000     19.650000           0.0   \n",
       "2  Bank Withdrawal      24.500000     46.400002           0.0   \n",
       "3      Credit Card      19.650000     19.650000           0.0   \n",
       "4  Bank Withdrawal      29.850000     29.850000           0.0   \n",
       "\n",
       "  Total_Extra_Data_Charges Total_Long_Distance_Charges Total_Revenue  \\\n",
       "0                        0                   51.029999    344.179993   \n",
       "1                        0                   13.850000     33.500000   \n",
       "2                        0                    0.000000     46.400002   \n",
       "3                        0                   23.670000     43.320000   \n",
       "4                        0                    0.000000     29.850000   \n",
       "\n",
       "  Customer_Status Churn_Category Churn_Reason  \n",
       "0          Joined         Others       Others  \n",
       "1          Joined         Others       Others  \n",
       "2          Joined         Others       Others  \n",
       "3          Joined         Others       Others  \n",
       "4          Joined         Others       Others  \n",
       "\n",
       "[5 rows x 32 columns]"
      ]
     },
     "execution_count": 12,
     "metadata": {},
     "output_type": "execute_result"
    }
   ],
   "source": [
    "new_data.head()"
   ]
  },
  {
   "cell_type": "code",
   "execution_count": 14,
   "id": "9371dfff",
   "metadata": {},
   "outputs": [
    {
     "name": "stdout",
     "output_type": "stream",
     "text": [
      "  Customer_Id  gender  age married           state  referrals  \\\n",
      "0   13666-UTT    Male   57     Yes     Uttarakhand         15   \n",
      "1   13744-AND  Female   41     Yes  Andhra Pradesh          8   \n",
      "2   13823-TEL  Female   31     Yes       Telangana          1   \n",
      "3   13946-HAR  Female   41     Yes         Haryana          1   \n",
      "4   17597-HAR  Female   33     Yes         Haryana          2   \n",
      "\n",
      "   Tenure_in_Months value_deal Phone_Service Multiple_Lines  ...  \\\n",
      "0                16       none           Yes             No  ...   \n",
      "1                 3     Deal 5           Yes             No  ...   \n",
      "2                28     Deal 5            No           none  ...   \n",
      "3                 3     Deal 5           Yes             No  ...   \n",
      "4                 6     Deal 5            No           none  ...   \n",
      "\n",
      "    Payment_Method Monthly_Charge Total_Charges Total_Refunds  \\\n",
      "0  Bank Withdrawal      95.400002    293.149994           0.0   \n",
      "1  Bank Withdrawal      19.650000     19.650000           0.0   \n",
      "2  Bank Withdrawal      24.500000     46.400002           0.0   \n",
      "3      Credit Card      19.650000     19.650000           0.0   \n",
      "4  Bank Withdrawal      29.850000     29.850000           0.0   \n",
      "\n",
      "  Total_Extra_Data_Charges Total_Long_Distance_Charges Total_Revenue  \\\n",
      "0                        0                   51.029999    344.179993   \n",
      "1                        0                   13.850000     33.500000   \n",
      "2                        0                    0.000000     46.400002   \n",
      "3                        0                   23.670000     43.320000   \n",
      "4                        0                    0.000000     29.850000   \n",
      "\n",
      "  Customer_Status Churn_Category Churn_Reason  \n",
      "0          Joined         Others       Others  \n",
      "1          Joined         Others       Others  \n",
      "2          Joined         Others       Others  \n",
      "3          Joined         Others       Others  \n",
      "4          Joined         Others       Others  \n",
      "\n",
      "[5 rows x 32 columns]\n"
     ]
    }
   ],
   "source": [
    "# Read the data from the specified sheet into a pandas DataFrame\n",
    "\n",
    "new_data = pd.read_excel(r\"E:\\proj\\2)FINANCE DOMAIN\\2_POWER BI &SQL&ML PROJ\\vw.JoinData.xlsx\")\n",
    "\n",
    " \n",
    "\n",
    "# Display the first few rows of the fetched data\n",
    "\n",
    "print(new_data.head())\n",
    "\n",
    " \n",
    "\n",
    "# Retain the original DataFrame to preserve unencoded columns\n",
    "\n",
    "original_data = new_data.copy()\n",
    "\n",
    " \n",
    "\n",
    "# Retain the Customer_ID column\n",
    "\n",
    "customer_ids = new_data['Customer_Id']\n",
    "\n",
    " \n",
    "\n",
    "# Drop columns that won't be used for prediction in the encoded DataFrame\n",
    "\n",
    "new_data = new_data.drop(['Customer_Id', 'Customer_Status', 'Churn_Category', 'Churn_Reason'], axis=1)\n",
    "\n",
    " \n",
    "\n",
    "# Encode categorical variables using the saved label encoders\n",
    "\n",
    "for column in new_data.select_dtypes(include=['object']).columns:\n",
    "\n",
    "    new_data[column] = label_encoders[column].transform(new_data[column])\n",
    "\n",
    " \n",
    "\n",
    "# Make predictions\n",
    "\n",
    "new_predictions = rf_model.predict(new_data)\n",
    "\n",
    " \n",
    "\n",
    "# Add predictions to the original DataFrame\n",
    "\n",
    "original_data['Customer_Status_Predicted'] = new_predictions\n",
    "\n",
    " \n",
    "\n",
    "# Filter the DataFrame to include only records predicted as \"Churned\"\n",
    "\n",
    "original_data = original_data[original_data['Customer_Status_Predicted'] == 1]\n",
    "\n",
    " \n",
    "\n",
    "# Save the results\n",
    "\n",
    "original_data.to_csv(r\"E:\\proj\\2)FINANCE DOMAIN\\2_POWER BI &SQL&ML PROJ\\Predictions.csv\", index=False)"
   ]
  },
  {
   "cell_type": "code",
   "execution_count": null,
   "id": "28cdc591",
   "metadata": {},
   "outputs": [],
   "source": []
  }
 ],
 "metadata": {
  "kernelspec": {
   "display_name": "Python 3",
   "language": "python",
   "name": "python3"
  },
  "language_info": {
   "codemirror_mode": {
    "name": "ipython",
    "version": 3
   },
   "file_extension": ".py",
   "mimetype": "text/x-python",
   "name": "python",
   "nbconvert_exporter": "python",
   "pygments_lexer": "ipython3",
   "version": "3.8.8"
  }
 },
 "nbformat": 4,
 "nbformat_minor": 5
}
